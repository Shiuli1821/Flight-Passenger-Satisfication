{
 "cells": [
  {
   "cell_type": "markdown",
   "metadata": {},
   "source": [
    "### 1. Importing modules."
   ]
  },
  {
   "cell_type": "code",
   "execution_count": 54,
   "metadata": {},
   "outputs": [],
   "source": [
    "import numpy as np\n",
    "import pandas as pd\n",
    "\n",
    "import matplotlib.pyplot as plt\n",
    "import seaborn as sb\n",
    "\n",
    "import scipy.stats as scistats"
   ]
  },
  {
   "cell_type": "markdown",
   "metadata": {},
   "source": [
    "### 2. Importing data."
   ]
  },
  {
   "cell_type": "code",
   "execution_count": 55,
   "metadata": {},
   "outputs": [
    {
     "name": "stdout",
     "output_type": "stream",
     "text": [
      "Training data shape:  (103904, 25)\n",
      "Testing data shape:  (25976, 25)\n"
     ]
    }
   ],
   "source": [
    "raw_train = pd.read_csv('train.csv')\n",
    "raw_test = pd.read_csv('test.csv')\n",
    "\n",
    "print('Training data shape: ', raw_train.shape)\n",
    "print('Testing data shape: ', raw_test.shape)"
   ]
  },
  {
   "cell_type": "code",
   "execution_count": 56,
   "metadata": {},
   "outputs": [
    {
     "data": {
      "text/html": [
       "<div>\n",
       "<style scoped>\n",
       "    .dataframe tbody tr th:only-of-type {\n",
       "        vertical-align: middle;\n",
       "    }\n",
       "\n",
       "    .dataframe tbody tr th {\n",
       "        vertical-align: top;\n",
       "    }\n",
       "\n",
       "    .dataframe thead th {\n",
       "        text-align: right;\n",
       "    }\n",
       "</style>\n",
       "<table border=\"1\" class=\"dataframe\">\n",
       "  <thead>\n",
       "    <tr style=\"text-align: right;\">\n",
       "      <th></th>\n",
       "      <th>Unnamed: 0</th>\n",
       "      <th>id</th>\n",
       "      <th>Gender</th>\n",
       "      <th>Customer Type</th>\n",
       "      <th>Age</th>\n",
       "      <th>Type of Travel</th>\n",
       "      <th>Class</th>\n",
       "      <th>Flight Distance</th>\n",
       "      <th>Inflight wifi service</th>\n",
       "      <th>Departure/Arrival time convenient</th>\n",
       "      <th>...</th>\n",
       "      <th>Inflight entertainment</th>\n",
       "      <th>On-board service</th>\n",
       "      <th>Leg room service</th>\n",
       "      <th>Baggage handling</th>\n",
       "      <th>Checkin service</th>\n",
       "      <th>Inflight service</th>\n",
       "      <th>Cleanliness</th>\n",
       "      <th>Departure Delay in Minutes</th>\n",
       "      <th>Arrival Delay in Minutes</th>\n",
       "      <th>satisfaction</th>\n",
       "    </tr>\n",
       "  </thead>\n",
       "  <tbody>\n",
       "    <tr>\n",
       "      <th>0</th>\n",
       "      <td>0</td>\n",
       "      <td>70172</td>\n",
       "      <td>Male</td>\n",
       "      <td>Loyal Customer</td>\n",
       "      <td>13</td>\n",
       "      <td>Personal Travel</td>\n",
       "      <td>Eco Plus</td>\n",
       "      <td>460</td>\n",
       "      <td>3</td>\n",
       "      <td>4</td>\n",
       "      <td>...</td>\n",
       "      <td>5</td>\n",
       "      <td>4</td>\n",
       "      <td>3</td>\n",
       "      <td>4</td>\n",
       "      <td>4</td>\n",
       "      <td>5</td>\n",
       "      <td>5</td>\n",
       "      <td>25</td>\n",
       "      <td>18.0</td>\n",
       "      <td>neutral or dissatisfied</td>\n",
       "    </tr>\n",
       "    <tr>\n",
       "      <th>1</th>\n",
       "      <td>1</td>\n",
       "      <td>5047</td>\n",
       "      <td>Male</td>\n",
       "      <td>disloyal Customer</td>\n",
       "      <td>25</td>\n",
       "      <td>Business travel</td>\n",
       "      <td>Business</td>\n",
       "      <td>235</td>\n",
       "      <td>3</td>\n",
       "      <td>2</td>\n",
       "      <td>...</td>\n",
       "      <td>1</td>\n",
       "      <td>1</td>\n",
       "      <td>5</td>\n",
       "      <td>3</td>\n",
       "      <td>1</td>\n",
       "      <td>4</td>\n",
       "      <td>1</td>\n",
       "      <td>1</td>\n",
       "      <td>6.0</td>\n",
       "      <td>neutral or dissatisfied</td>\n",
       "    </tr>\n",
       "    <tr>\n",
       "      <th>2</th>\n",
       "      <td>2</td>\n",
       "      <td>110028</td>\n",
       "      <td>Female</td>\n",
       "      <td>Loyal Customer</td>\n",
       "      <td>26</td>\n",
       "      <td>Business travel</td>\n",
       "      <td>Business</td>\n",
       "      <td>1142</td>\n",
       "      <td>2</td>\n",
       "      <td>2</td>\n",
       "      <td>...</td>\n",
       "      <td>5</td>\n",
       "      <td>4</td>\n",
       "      <td>3</td>\n",
       "      <td>4</td>\n",
       "      <td>4</td>\n",
       "      <td>4</td>\n",
       "      <td>5</td>\n",
       "      <td>0</td>\n",
       "      <td>0.0</td>\n",
       "      <td>satisfied</td>\n",
       "    </tr>\n",
       "    <tr>\n",
       "      <th>3</th>\n",
       "      <td>3</td>\n",
       "      <td>24026</td>\n",
       "      <td>Female</td>\n",
       "      <td>Loyal Customer</td>\n",
       "      <td>25</td>\n",
       "      <td>Business travel</td>\n",
       "      <td>Business</td>\n",
       "      <td>562</td>\n",
       "      <td>2</td>\n",
       "      <td>5</td>\n",
       "      <td>...</td>\n",
       "      <td>2</td>\n",
       "      <td>2</td>\n",
       "      <td>5</td>\n",
       "      <td>3</td>\n",
       "      <td>1</td>\n",
       "      <td>4</td>\n",
       "      <td>2</td>\n",
       "      <td>11</td>\n",
       "      <td>9.0</td>\n",
       "      <td>neutral or dissatisfied</td>\n",
       "    </tr>\n",
       "    <tr>\n",
       "      <th>4</th>\n",
       "      <td>4</td>\n",
       "      <td>119299</td>\n",
       "      <td>Male</td>\n",
       "      <td>Loyal Customer</td>\n",
       "      <td>61</td>\n",
       "      <td>Business travel</td>\n",
       "      <td>Business</td>\n",
       "      <td>214</td>\n",
       "      <td>3</td>\n",
       "      <td>3</td>\n",
       "      <td>...</td>\n",
       "      <td>3</td>\n",
       "      <td>3</td>\n",
       "      <td>4</td>\n",
       "      <td>4</td>\n",
       "      <td>3</td>\n",
       "      <td>3</td>\n",
       "      <td>3</td>\n",
       "      <td>0</td>\n",
       "      <td>0.0</td>\n",
       "      <td>satisfied</td>\n",
       "    </tr>\n",
       "  </tbody>\n",
       "</table>\n",
       "<p>5 rows × 25 columns</p>\n",
       "</div>"
      ],
      "text/plain": [
       "   Unnamed: 0      id  Gender      Customer Type  Age   Type of Travel  \\\n",
       "0           0   70172    Male     Loyal Customer   13  Personal Travel   \n",
       "1           1    5047    Male  disloyal Customer   25  Business travel   \n",
       "2           2  110028  Female     Loyal Customer   26  Business travel   \n",
       "3           3   24026  Female     Loyal Customer   25  Business travel   \n",
       "4           4  119299    Male     Loyal Customer   61  Business travel   \n",
       "\n",
       "      Class  Flight Distance  Inflight wifi service  \\\n",
       "0  Eco Plus              460                      3   \n",
       "1  Business              235                      3   \n",
       "2  Business             1142                      2   \n",
       "3  Business              562                      2   \n",
       "4  Business              214                      3   \n",
       "\n",
       "   Departure/Arrival time convenient  ...  Inflight entertainment  \\\n",
       "0                                  4  ...                       5   \n",
       "1                                  2  ...                       1   \n",
       "2                                  2  ...                       5   \n",
       "3                                  5  ...                       2   \n",
       "4                                  3  ...                       3   \n",
       "\n",
       "   On-board service  Leg room service  Baggage handling  Checkin service  \\\n",
       "0                 4                 3                 4                4   \n",
       "1                 1                 5                 3                1   \n",
       "2                 4                 3                 4                4   \n",
       "3                 2                 5                 3                1   \n",
       "4                 3                 4                 4                3   \n",
       "\n",
       "   Inflight service  Cleanliness  Departure Delay in Minutes  \\\n",
       "0                 5            5                          25   \n",
       "1                 4            1                           1   \n",
       "2                 4            5                           0   \n",
       "3                 4            2                          11   \n",
       "4                 3            3                           0   \n",
       "\n",
       "   Arrival Delay in Minutes             satisfaction  \n",
       "0                      18.0  neutral or dissatisfied  \n",
       "1                       6.0  neutral or dissatisfied  \n",
       "2                       0.0                satisfied  \n",
       "3                       9.0  neutral or dissatisfied  \n",
       "4                       0.0                satisfied  \n",
       "\n",
       "[5 rows x 25 columns]"
      ]
     },
     "execution_count": 56,
     "metadata": {},
     "output_type": "execute_result"
    }
   ],
   "source": [
    "# Quick glance at the data.\n",
    "\n",
    "raw_train.head(5)"
   ]
  },
  {
   "cell_type": "code",
   "execution_count": 57,
   "metadata": {},
   "outputs": [
    {
     "data": {
      "text/html": [
       "<div>\n",
       "<style scoped>\n",
       "    .dataframe tbody tr th:only-of-type {\n",
       "        vertical-align: middle;\n",
       "    }\n",
       "\n",
       "    .dataframe tbody tr th {\n",
       "        vertical-align: top;\n",
       "    }\n",
       "\n",
       "    .dataframe thead th {\n",
       "        text-align: right;\n",
       "    }\n",
       "</style>\n",
       "<table border=\"1\" class=\"dataframe\">\n",
       "  <thead>\n",
       "    <tr style=\"text-align: right;\">\n",
       "      <th></th>\n",
       "      <th>Unnamed: 0</th>\n",
       "      <th>id</th>\n",
       "      <th>Gender</th>\n",
       "      <th>Customer Type</th>\n",
       "      <th>Age</th>\n",
       "      <th>Type of Travel</th>\n",
       "      <th>Class</th>\n",
       "      <th>Flight Distance</th>\n",
       "      <th>Inflight wifi service</th>\n",
       "      <th>Departure/Arrival time convenient</th>\n",
       "      <th>...</th>\n",
       "      <th>Inflight entertainment</th>\n",
       "      <th>On-board service</th>\n",
       "      <th>Leg room service</th>\n",
       "      <th>Baggage handling</th>\n",
       "      <th>Checkin service</th>\n",
       "      <th>Inflight service</th>\n",
       "      <th>Cleanliness</th>\n",
       "      <th>Departure Delay in Minutes</th>\n",
       "      <th>Arrival Delay in Minutes</th>\n",
       "      <th>satisfaction</th>\n",
       "    </tr>\n",
       "  </thead>\n",
       "  <tbody>\n",
       "    <tr>\n",
       "      <th>0</th>\n",
       "      <td>0</td>\n",
       "      <td>19556</td>\n",
       "      <td>Female</td>\n",
       "      <td>Loyal Customer</td>\n",
       "      <td>52</td>\n",
       "      <td>Business travel</td>\n",
       "      <td>Eco</td>\n",
       "      <td>160</td>\n",
       "      <td>5</td>\n",
       "      <td>4</td>\n",
       "      <td>...</td>\n",
       "      <td>5</td>\n",
       "      <td>5</td>\n",
       "      <td>5</td>\n",
       "      <td>5</td>\n",
       "      <td>2</td>\n",
       "      <td>5</td>\n",
       "      <td>5</td>\n",
       "      <td>50</td>\n",
       "      <td>44.0</td>\n",
       "      <td>satisfied</td>\n",
       "    </tr>\n",
       "    <tr>\n",
       "      <th>1</th>\n",
       "      <td>1</td>\n",
       "      <td>90035</td>\n",
       "      <td>Female</td>\n",
       "      <td>Loyal Customer</td>\n",
       "      <td>36</td>\n",
       "      <td>Business travel</td>\n",
       "      <td>Business</td>\n",
       "      <td>2863</td>\n",
       "      <td>1</td>\n",
       "      <td>1</td>\n",
       "      <td>...</td>\n",
       "      <td>4</td>\n",
       "      <td>4</td>\n",
       "      <td>4</td>\n",
       "      <td>4</td>\n",
       "      <td>3</td>\n",
       "      <td>4</td>\n",
       "      <td>5</td>\n",
       "      <td>0</td>\n",
       "      <td>0.0</td>\n",
       "      <td>satisfied</td>\n",
       "    </tr>\n",
       "    <tr>\n",
       "      <th>2</th>\n",
       "      <td>2</td>\n",
       "      <td>12360</td>\n",
       "      <td>Male</td>\n",
       "      <td>disloyal Customer</td>\n",
       "      <td>20</td>\n",
       "      <td>Business travel</td>\n",
       "      <td>Eco</td>\n",
       "      <td>192</td>\n",
       "      <td>2</td>\n",
       "      <td>0</td>\n",
       "      <td>...</td>\n",
       "      <td>2</td>\n",
       "      <td>4</td>\n",
       "      <td>1</td>\n",
       "      <td>3</td>\n",
       "      <td>2</td>\n",
       "      <td>2</td>\n",
       "      <td>2</td>\n",
       "      <td>0</td>\n",
       "      <td>0.0</td>\n",
       "      <td>neutral or dissatisfied</td>\n",
       "    </tr>\n",
       "    <tr>\n",
       "      <th>3</th>\n",
       "      <td>3</td>\n",
       "      <td>77959</td>\n",
       "      <td>Male</td>\n",
       "      <td>Loyal Customer</td>\n",
       "      <td>44</td>\n",
       "      <td>Business travel</td>\n",
       "      <td>Business</td>\n",
       "      <td>3377</td>\n",
       "      <td>0</td>\n",
       "      <td>0</td>\n",
       "      <td>...</td>\n",
       "      <td>1</td>\n",
       "      <td>1</td>\n",
       "      <td>1</td>\n",
       "      <td>1</td>\n",
       "      <td>3</td>\n",
       "      <td>1</td>\n",
       "      <td>4</td>\n",
       "      <td>0</td>\n",
       "      <td>6.0</td>\n",
       "      <td>satisfied</td>\n",
       "    </tr>\n",
       "    <tr>\n",
       "      <th>4</th>\n",
       "      <td>4</td>\n",
       "      <td>36875</td>\n",
       "      <td>Female</td>\n",
       "      <td>Loyal Customer</td>\n",
       "      <td>49</td>\n",
       "      <td>Business travel</td>\n",
       "      <td>Eco</td>\n",
       "      <td>1182</td>\n",
       "      <td>2</td>\n",
       "      <td>3</td>\n",
       "      <td>...</td>\n",
       "      <td>2</td>\n",
       "      <td>2</td>\n",
       "      <td>2</td>\n",
       "      <td>2</td>\n",
       "      <td>4</td>\n",
       "      <td>2</td>\n",
       "      <td>4</td>\n",
       "      <td>0</td>\n",
       "      <td>20.0</td>\n",
       "      <td>satisfied</td>\n",
       "    </tr>\n",
       "  </tbody>\n",
       "</table>\n",
       "<p>5 rows × 25 columns</p>\n",
       "</div>"
      ],
      "text/plain": [
       "   Unnamed: 0     id  Gender      Customer Type  Age   Type of Travel  \\\n",
       "0           0  19556  Female     Loyal Customer   52  Business travel   \n",
       "1           1  90035  Female     Loyal Customer   36  Business travel   \n",
       "2           2  12360    Male  disloyal Customer   20  Business travel   \n",
       "3           3  77959    Male     Loyal Customer   44  Business travel   \n",
       "4           4  36875  Female     Loyal Customer   49  Business travel   \n",
       "\n",
       "      Class  Flight Distance  Inflight wifi service  \\\n",
       "0       Eco              160                      5   \n",
       "1  Business             2863                      1   \n",
       "2       Eco              192                      2   \n",
       "3  Business             3377                      0   \n",
       "4       Eco             1182                      2   \n",
       "\n",
       "   Departure/Arrival time convenient  ...  Inflight entertainment  \\\n",
       "0                                  4  ...                       5   \n",
       "1                                  1  ...                       4   \n",
       "2                                  0  ...                       2   \n",
       "3                                  0  ...                       1   \n",
       "4                                  3  ...                       2   \n",
       "\n",
       "   On-board service  Leg room service  Baggage handling  Checkin service  \\\n",
       "0                 5                 5                 5                2   \n",
       "1                 4                 4                 4                3   \n",
       "2                 4                 1                 3                2   \n",
       "3                 1                 1                 1                3   \n",
       "4                 2                 2                 2                4   \n",
       "\n",
       "   Inflight service  Cleanliness  Departure Delay in Minutes  \\\n",
       "0                 5            5                          50   \n",
       "1                 4            5                           0   \n",
       "2                 2            2                           0   \n",
       "3                 1            4                           0   \n",
       "4                 2            4                           0   \n",
       "\n",
       "   Arrival Delay in Minutes             satisfaction  \n",
       "0                      44.0                satisfied  \n",
       "1                       0.0                satisfied  \n",
       "2                       0.0  neutral or dissatisfied  \n",
       "3                       6.0                satisfied  \n",
       "4                      20.0                satisfied  \n",
       "\n",
       "[5 rows x 25 columns]"
      ]
     },
     "execution_count": 57,
     "metadata": {},
     "output_type": "execute_result"
    }
   ],
   "source": [
    "raw_test.head(5)"
   ]
  },
  {
   "cell_type": "markdown",
   "metadata": {},
   "source": [
    "### 2.1 Dropping columns."
   ]
  },
  {
   "cell_type": "code",
   "execution_count": 58,
   "metadata": {},
   "outputs": [],
   "source": [
    "# 'Unnamed' and 'id' columms are irrelevant and needs to be dropped.\n",
    "\n",
    "raw_train.drop(columns = ['Unnamed: 0', 'id'], inplace = True)\n",
    "raw_test.drop(columns = ['Unnamed: 0', 'id'], inplace = True)"
   ]
  },
  {
   "cell_type": "markdown",
   "metadata": {},
   "source": [
    "### 2.2 Describing columns to check for any outliers if any."
   ]
  },
  {
   "cell_type": "code",
   "execution_count": 59,
   "metadata": {},
   "outputs": [
    {
     "data": {
      "text/html": [
       "<div>\n",
       "<style scoped>\n",
       "    .dataframe tbody tr th:only-of-type {\n",
       "        vertical-align: middle;\n",
       "    }\n",
       "\n",
       "    .dataframe tbody tr th {\n",
       "        vertical-align: top;\n",
       "    }\n",
       "\n",
       "    .dataframe thead th {\n",
       "        text-align: right;\n",
       "    }\n",
       "</style>\n",
       "<table border=\"1\" class=\"dataframe\">\n",
       "  <thead>\n",
       "    <tr style=\"text-align: right;\">\n",
       "      <th></th>\n",
       "      <th>Age</th>\n",
       "      <th>Flight Distance</th>\n",
       "      <th>Inflight wifi service</th>\n",
       "      <th>Departure/Arrival time convenient</th>\n",
       "      <th>Ease of Online booking</th>\n",
       "      <th>Gate location</th>\n",
       "      <th>Food and drink</th>\n",
       "      <th>Online boarding</th>\n",
       "      <th>Seat comfort</th>\n",
       "      <th>Inflight entertainment</th>\n",
       "      <th>On-board service</th>\n",
       "      <th>Leg room service</th>\n",
       "      <th>Baggage handling</th>\n",
       "      <th>Checkin service</th>\n",
       "      <th>Inflight service</th>\n",
       "      <th>Cleanliness</th>\n",
       "      <th>Departure Delay in Minutes</th>\n",
       "      <th>Arrival Delay in Minutes</th>\n",
       "    </tr>\n",
       "  </thead>\n",
       "  <tbody>\n",
       "    <tr>\n",
       "      <th>count</th>\n",
       "      <td>103904.000000</td>\n",
       "      <td>103904.000000</td>\n",
       "      <td>103904.000000</td>\n",
       "      <td>103904.000000</td>\n",
       "      <td>103904.000000</td>\n",
       "      <td>103904.000000</td>\n",
       "      <td>103904.000000</td>\n",
       "      <td>103904.000000</td>\n",
       "      <td>103904.000000</td>\n",
       "      <td>103904.000000</td>\n",
       "      <td>103904.000000</td>\n",
       "      <td>103904.000000</td>\n",
       "      <td>103904.000000</td>\n",
       "      <td>103904.000000</td>\n",
       "      <td>103904.000000</td>\n",
       "      <td>103904.000000</td>\n",
       "      <td>103904.000000</td>\n",
       "      <td>103594.000000</td>\n",
       "    </tr>\n",
       "    <tr>\n",
       "      <th>mean</th>\n",
       "      <td>39.379706</td>\n",
       "      <td>1189.448375</td>\n",
       "      <td>2.729683</td>\n",
       "      <td>3.060296</td>\n",
       "      <td>2.756901</td>\n",
       "      <td>2.976883</td>\n",
       "      <td>3.202129</td>\n",
       "      <td>3.250375</td>\n",
       "      <td>3.439396</td>\n",
       "      <td>3.358158</td>\n",
       "      <td>3.382363</td>\n",
       "      <td>3.351055</td>\n",
       "      <td>3.631833</td>\n",
       "      <td>3.304290</td>\n",
       "      <td>3.640428</td>\n",
       "      <td>3.286351</td>\n",
       "      <td>14.815618</td>\n",
       "      <td>15.178678</td>\n",
       "    </tr>\n",
       "    <tr>\n",
       "      <th>std</th>\n",
       "      <td>15.114964</td>\n",
       "      <td>997.147281</td>\n",
       "      <td>1.327829</td>\n",
       "      <td>1.525075</td>\n",
       "      <td>1.398929</td>\n",
       "      <td>1.277621</td>\n",
       "      <td>1.329533</td>\n",
       "      <td>1.349509</td>\n",
       "      <td>1.319088</td>\n",
       "      <td>1.332991</td>\n",
       "      <td>1.288354</td>\n",
       "      <td>1.315605</td>\n",
       "      <td>1.180903</td>\n",
       "      <td>1.265396</td>\n",
       "      <td>1.175663</td>\n",
       "      <td>1.312273</td>\n",
       "      <td>38.230901</td>\n",
       "      <td>38.698682</td>\n",
       "    </tr>\n",
       "    <tr>\n",
       "      <th>min</th>\n",
       "      <td>7.000000</td>\n",
       "      <td>31.000000</td>\n",
       "      <td>0.000000</td>\n",
       "      <td>0.000000</td>\n",
       "      <td>0.000000</td>\n",
       "      <td>0.000000</td>\n",
       "      <td>0.000000</td>\n",
       "      <td>0.000000</td>\n",
       "      <td>0.000000</td>\n",
       "      <td>0.000000</td>\n",
       "      <td>0.000000</td>\n",
       "      <td>0.000000</td>\n",
       "      <td>1.000000</td>\n",
       "      <td>0.000000</td>\n",
       "      <td>0.000000</td>\n",
       "      <td>0.000000</td>\n",
       "      <td>0.000000</td>\n",
       "      <td>0.000000</td>\n",
       "    </tr>\n",
       "    <tr>\n",
       "      <th>25%</th>\n",
       "      <td>27.000000</td>\n",
       "      <td>414.000000</td>\n",
       "      <td>2.000000</td>\n",
       "      <td>2.000000</td>\n",
       "      <td>2.000000</td>\n",
       "      <td>2.000000</td>\n",
       "      <td>2.000000</td>\n",
       "      <td>2.000000</td>\n",
       "      <td>2.000000</td>\n",
       "      <td>2.000000</td>\n",
       "      <td>2.000000</td>\n",
       "      <td>2.000000</td>\n",
       "      <td>3.000000</td>\n",
       "      <td>3.000000</td>\n",
       "      <td>3.000000</td>\n",
       "      <td>2.000000</td>\n",
       "      <td>0.000000</td>\n",
       "      <td>0.000000</td>\n",
       "    </tr>\n",
       "    <tr>\n",
       "      <th>50%</th>\n",
       "      <td>40.000000</td>\n",
       "      <td>843.000000</td>\n",
       "      <td>3.000000</td>\n",
       "      <td>3.000000</td>\n",
       "      <td>3.000000</td>\n",
       "      <td>3.000000</td>\n",
       "      <td>3.000000</td>\n",
       "      <td>3.000000</td>\n",
       "      <td>4.000000</td>\n",
       "      <td>4.000000</td>\n",
       "      <td>4.000000</td>\n",
       "      <td>4.000000</td>\n",
       "      <td>4.000000</td>\n",
       "      <td>3.000000</td>\n",
       "      <td>4.000000</td>\n",
       "      <td>3.000000</td>\n",
       "      <td>0.000000</td>\n",
       "      <td>0.000000</td>\n",
       "    </tr>\n",
       "    <tr>\n",
       "      <th>75%</th>\n",
       "      <td>51.000000</td>\n",
       "      <td>1743.000000</td>\n",
       "      <td>4.000000</td>\n",
       "      <td>4.000000</td>\n",
       "      <td>4.000000</td>\n",
       "      <td>4.000000</td>\n",
       "      <td>4.000000</td>\n",
       "      <td>4.000000</td>\n",
       "      <td>5.000000</td>\n",
       "      <td>4.000000</td>\n",
       "      <td>4.000000</td>\n",
       "      <td>4.000000</td>\n",
       "      <td>5.000000</td>\n",
       "      <td>4.000000</td>\n",
       "      <td>5.000000</td>\n",
       "      <td>4.000000</td>\n",
       "      <td>12.000000</td>\n",
       "      <td>13.000000</td>\n",
       "    </tr>\n",
       "    <tr>\n",
       "      <th>max</th>\n",
       "      <td>85.000000</td>\n",
       "      <td>4983.000000</td>\n",
       "      <td>5.000000</td>\n",
       "      <td>5.000000</td>\n",
       "      <td>5.000000</td>\n",
       "      <td>5.000000</td>\n",
       "      <td>5.000000</td>\n",
       "      <td>5.000000</td>\n",
       "      <td>5.000000</td>\n",
       "      <td>5.000000</td>\n",
       "      <td>5.000000</td>\n",
       "      <td>5.000000</td>\n",
       "      <td>5.000000</td>\n",
       "      <td>5.000000</td>\n",
       "      <td>5.000000</td>\n",
       "      <td>5.000000</td>\n",
       "      <td>1592.000000</td>\n",
       "      <td>1584.000000</td>\n",
       "    </tr>\n",
       "  </tbody>\n",
       "</table>\n",
       "</div>"
      ],
      "text/plain": [
       "                 Age  Flight Distance  Inflight wifi service  \\\n",
       "count  103904.000000    103904.000000          103904.000000   \n",
       "mean       39.379706      1189.448375               2.729683   \n",
       "std        15.114964       997.147281               1.327829   \n",
       "min         7.000000        31.000000               0.000000   \n",
       "25%        27.000000       414.000000               2.000000   \n",
       "50%        40.000000       843.000000               3.000000   \n",
       "75%        51.000000      1743.000000               4.000000   \n",
       "max        85.000000      4983.000000               5.000000   \n",
       "\n",
       "       Departure/Arrival time convenient  Ease of Online booking  \\\n",
       "count                      103904.000000           103904.000000   \n",
       "mean                            3.060296                2.756901   \n",
       "std                             1.525075                1.398929   \n",
       "min                             0.000000                0.000000   \n",
       "25%                             2.000000                2.000000   \n",
       "50%                             3.000000                3.000000   \n",
       "75%                             4.000000                4.000000   \n",
       "max                             5.000000                5.000000   \n",
       "\n",
       "       Gate location  Food and drink  Online boarding   Seat comfort  \\\n",
       "count  103904.000000   103904.000000    103904.000000  103904.000000   \n",
       "mean        2.976883        3.202129         3.250375       3.439396   \n",
       "std         1.277621        1.329533         1.349509       1.319088   \n",
       "min         0.000000        0.000000         0.000000       0.000000   \n",
       "25%         2.000000        2.000000         2.000000       2.000000   \n",
       "50%         3.000000        3.000000         3.000000       4.000000   \n",
       "75%         4.000000        4.000000         4.000000       5.000000   \n",
       "max         5.000000        5.000000         5.000000       5.000000   \n",
       "\n",
       "       Inflight entertainment  On-board service  Leg room service  \\\n",
       "count           103904.000000     103904.000000     103904.000000   \n",
       "mean                 3.358158          3.382363          3.351055   \n",
       "std                  1.332991          1.288354          1.315605   \n",
       "min                  0.000000          0.000000          0.000000   \n",
       "25%                  2.000000          2.000000          2.000000   \n",
       "50%                  4.000000          4.000000          4.000000   \n",
       "75%                  4.000000          4.000000          4.000000   \n",
       "max                  5.000000          5.000000          5.000000   \n",
       "\n",
       "       Baggage handling  Checkin service  Inflight service    Cleanliness  \\\n",
       "count     103904.000000    103904.000000     103904.000000  103904.000000   \n",
       "mean           3.631833         3.304290          3.640428       3.286351   \n",
       "std            1.180903         1.265396          1.175663       1.312273   \n",
       "min            1.000000         0.000000          0.000000       0.000000   \n",
       "25%            3.000000         3.000000          3.000000       2.000000   \n",
       "50%            4.000000         3.000000          4.000000       3.000000   \n",
       "75%            5.000000         4.000000          5.000000       4.000000   \n",
       "max            5.000000         5.000000          5.000000       5.000000   \n",
       "\n",
       "       Departure Delay in Minutes  Arrival Delay in Minutes  \n",
       "count               103904.000000             103594.000000  \n",
       "mean                    14.815618                 15.178678  \n",
       "std                     38.230901                 38.698682  \n",
       "min                      0.000000                  0.000000  \n",
       "25%                      0.000000                  0.000000  \n",
       "50%                      0.000000                  0.000000  \n",
       "75%                     12.000000                 13.000000  \n",
       "max                   1592.000000               1584.000000  "
      ]
     },
     "execution_count": 59,
     "metadata": {},
     "output_type": "execute_result"
    }
   ],
   "source": [
    "# Describing numerical data.\n",
    "\n",
    "raw_train.describe()"
   ]
  },
  {
   "cell_type": "code",
   "execution_count": 60,
   "metadata": {},
   "outputs": [
    {
     "data": {
      "text/html": [
       "<div>\n",
       "<style scoped>\n",
       "    .dataframe tbody tr th:only-of-type {\n",
       "        vertical-align: middle;\n",
       "    }\n",
       "\n",
       "    .dataframe tbody tr th {\n",
       "        vertical-align: top;\n",
       "    }\n",
       "\n",
       "    .dataframe thead th {\n",
       "        text-align: right;\n",
       "    }\n",
       "</style>\n",
       "<table border=\"1\" class=\"dataframe\">\n",
       "  <thead>\n",
       "    <tr style=\"text-align: right;\">\n",
       "      <th></th>\n",
       "      <th>Gender</th>\n",
       "      <th>Customer Type</th>\n",
       "      <th>Type of Travel</th>\n",
       "      <th>Class</th>\n",
       "      <th>satisfaction</th>\n",
       "    </tr>\n",
       "  </thead>\n",
       "  <tbody>\n",
       "    <tr>\n",
       "      <th>count</th>\n",
       "      <td>103904</td>\n",
       "      <td>103904</td>\n",
       "      <td>103904</td>\n",
       "      <td>103904</td>\n",
       "      <td>103904</td>\n",
       "    </tr>\n",
       "    <tr>\n",
       "      <th>unique</th>\n",
       "      <td>2</td>\n",
       "      <td>2</td>\n",
       "      <td>2</td>\n",
       "      <td>3</td>\n",
       "      <td>2</td>\n",
       "    </tr>\n",
       "    <tr>\n",
       "      <th>top</th>\n",
       "      <td>Female</td>\n",
       "      <td>Loyal Customer</td>\n",
       "      <td>Business travel</td>\n",
       "      <td>Business</td>\n",
       "      <td>neutral or dissatisfied</td>\n",
       "    </tr>\n",
       "    <tr>\n",
       "      <th>freq</th>\n",
       "      <td>52727</td>\n",
       "      <td>84923</td>\n",
       "      <td>71655</td>\n",
       "      <td>49665</td>\n",
       "      <td>58879</td>\n",
       "    </tr>\n",
       "  </tbody>\n",
       "</table>\n",
       "</div>"
      ],
      "text/plain": [
       "        Gender   Customer Type   Type of Travel     Class  \\\n",
       "count   103904          103904           103904    103904   \n",
       "unique       2               2                2         3   \n",
       "top     Female  Loyal Customer  Business travel  Business   \n",
       "freq     52727           84923            71655     49665   \n",
       "\n",
       "                   satisfaction  \n",
       "count                    103904  \n",
       "unique                        2  \n",
       "top     neutral or dissatisfied  \n",
       "freq                      58879  "
      ]
     },
     "execution_count": 60,
     "metadata": {},
     "output_type": "execute_result"
    }
   ],
   "source": [
    "# Describing object data.\n",
    "\n",
    "raw_train.describe(include = 'object')"
   ]
  },
  {
   "cell_type": "markdown",
   "metadata": {},
   "source": [
    "### 2.3 Checking the dtypes."
   ]
  },
  {
   "cell_type": "code",
   "execution_count": 61,
   "metadata": {},
   "outputs": [
    {
     "data": {
      "text/plain": [
       "Gender                                object\n",
       "Customer Type                         object\n",
       "Age                                    int64\n",
       "Type of Travel                        object\n",
       "Class                                 object\n",
       "Flight Distance                        int64\n",
       "Inflight wifi service                  int64\n",
       "Departure/Arrival time convenient      int64\n",
       "Ease of Online booking                 int64\n",
       "Gate location                          int64\n",
       "Food and drink                         int64\n",
       "Online boarding                        int64\n",
       "Seat comfort                           int64\n",
       "Inflight entertainment                 int64\n",
       "On-board service                       int64\n",
       "Leg room service                       int64\n",
       "Baggage handling                       int64\n",
       "Checkin service                        int64\n",
       "Inflight service                       int64\n",
       "Cleanliness                            int64\n",
       "Departure Delay in Minutes             int64\n",
       "Arrival Delay in Minutes             float64\n",
       "satisfaction                          object\n",
       "dtype: object"
      ]
     },
     "execution_count": 61,
     "metadata": {},
     "output_type": "execute_result"
    }
   ],
   "source": [
    "raw_train.dtypes"
   ]
  },
  {
   "cell_type": "markdown",
   "metadata": {},
   "source": [
    "### 3 EDA."
   ]
  },
  {
   "cell_type": "markdown",
   "metadata": {},
   "source": [
    "### 3.1 Columns with 25% null values."
   ]
  },
  {
   "cell_type": "code",
   "execution_count": 62,
   "metadata": {},
   "outputs": [
    {
     "name": "stdout",
     "output_type": "stream",
     "text": [
      "Null columns in Training data: []\n",
      "Null columns in Testing data: []\n"
     ]
    }
   ],
   "source": [
    "# Checking for columns with 25% null values.\n",
    "\n",
    "train_null_data = raw_train.isnull().sum()/raw_train.shape[0]*100 \n",
    "train_null_cols = train_null_data[train_null_data > 25].keys().to_list()\n",
    "\n",
    "test_null_data = raw_test.isnull().sum()/raw_test.shape[0]*100 \n",
    "test_null_cols = test_null_data[test_null_data > 25].keys().to_list()\n",
    "\n",
    "print('Null columns in Training data:', train_null_cols)\n",
    "print('Null columns in Testing data:', test_null_cols)"
   ]
  },
  {
   "cell_type": "code",
   "execution_count": 63,
   "metadata": {},
   "outputs": [],
   "source": [
    "# No column is missing more than 25% data."
   ]
  },
  {
   "cell_type": "markdown",
   "metadata": {},
   "source": [
    "### 3.2 Columns with low variance."
   ]
  },
  {
   "cell_type": "markdown",
   "metadata": {},
   "source": [
    "### 3.3 Splitting the data."
   ]
  },
  {
   "cell_type": "code",
   "execution_count": 64,
   "metadata": {},
   "outputs": [],
   "source": [
    "# Splitting the raw_train data into train and valid data.\n",
    "# Data is large so I can use train_test_split.\n",
    "\n",
    "from sklearn.model_selection import train_test_split\n",
    "\n",
    "train_data, valid_data = train_test_split(raw_train, test_size = 0.3, \n",
    "                                          random_state = 0)\n",
    "\n",
    "train_data.reset_index(drop = True, inplace = True)\n",
    "valid_data.reset_index(drop = True, inplace = True)"
   ]
  },
  {
   "cell_type": "code",
   "execution_count": 65,
   "metadata": {},
   "outputs": [
    {
     "data": {
      "image/png": "[encoded data removed]",
      "text/plain": [
       "<Figure size 432x288 with 2 Axes>"
      ]
     },
     "metadata": {},
     "output_type": "display_data"
    }
   ],
   "source": [
    "# Visualizing the proportions.\n",
    "\n",
    "train_pie = train_data['satisfaction'].value_counts()/train_data.shape[0]*100\n",
    "valid_pie = valid_data['satisfaction'].value_counts()/valid_data.shape[0]*100\n",
    "\n",
    "plt.Figure(figsize = (5, 5))\n",
    "plt.subplot(1, 2, 1)\n",
    "plt.pie(x = train_pie, labels = train_pie.keys(), autopct = '%1.1f%%')\n",
    "\n",
    "plt.subplot(1, 2, 2)\n",
    "plt.pie(x = valid_pie, labels = valid_pie.keys(), autopct = '%1.1f%%')\n",
    "plt.show()"
   ]
  },
  {
   "cell_type": "markdown",
   "metadata": {},
   "source": [
    "### 3.4 Validating zeros."
   ]
  },
  {
   "cell_type": "code",
   "execution_count": 66,
   "metadata": {},
   "outputs": [
    {
     "data": {
      "text/plain": [
       "Gender                                   0\n",
       "Customer Type                            0\n",
       "Age                                      0\n",
       "Type of Travel                           0\n",
       "Class                                    0\n",
       "Flight Distance                          0\n",
       "Inflight wifi service                 2165\n",
       "Departure/Arrival time convenient     3718\n",
       "Ease of Online booking                3108\n",
       "Gate location                            1\n",
       "Food and drink                          75\n",
       "Online boarding                       1692\n",
       "Seat comfort                             0\n",
       "Inflight entertainment                   8\n",
       "On-board service                         3\n",
       "Leg room service                       334\n",
       "Baggage handling                         0\n",
       "Checkin service                          0\n",
       "Inflight service                         3\n",
       "Cleanliness                              5\n",
       "Departure Delay in Minutes           41205\n",
       "Arrival Delay in Minutes             40772\n",
       "satisfaction                             0\n",
       "dtype: int64"
      ]
     },
     "execution_count": 66,
     "metadata": {},
     "output_type": "execute_result"
    }
   ],
   "source": [
    "# Validating zero in train_data.\n",
    "\n",
    "(train_data == 0).sum()"
   ]
  },
  {
   "cell_type": "code",
   "execution_count": 67,
   "metadata": {},
   "outputs": [
    {
     "data": {
      "text/plain": [
       "Gender                                   0\n",
       "Customer Type                            0\n",
       "Age                                      0\n",
       "Type of Travel                           0\n",
       "Class                                    0\n",
       "Flight Distance                          0\n",
       "Inflight wifi service                  938\n",
       "Departure/Arrival time convenient     1582\n",
       "Ease of Online booking                1379\n",
       "Gate location                            0\n",
       "Food and drink                          32\n",
       "Online boarding                        736\n",
       "Seat comfort                             1\n",
       "Inflight entertainment                   6\n",
       "On-board service                         0\n",
       "Leg room service                       138\n",
       "Baggage handling                         0\n",
       "Checkin service                          1\n",
       "Inflight service                         0\n",
       "Cleanliness                              7\n",
       "Departure Delay in Minutes           17463\n",
       "Arrival Delay in Minutes             17387\n",
       "satisfaction                             0\n",
       "dtype: int64"
      ]
     },
     "execution_count": 67,
     "metadata": {},
     "output_type": "execute_result"
    }
   ],
   "source": [
    "# Validating zero in vaid_data.\n",
    "\n",
    "(valid_data == 0).sum()"
   ]
  },
  {
   "cell_type": "code",
   "execution_count": 68,
   "metadata": {},
   "outputs": [],
   "source": [
    "# All the above features can have zeros."
   ]
  },
  {
   "cell_type": "markdown",
   "metadata": {},
   "source": [
    "### 3.5 Checking for null columns."
   ]
  },
  {
   "cell_type": "code",
   "execution_count": 69,
   "metadata": {},
   "outputs": [
    {
     "name": "stdout",
     "output_type": "stream",
     "text": [
      "Null columns in train_data are: ['Arrival Delay in Minutes']\n",
      "Null columns in valid_data are: ['Arrival Delay in Minutes']\n",
      "Null columns in test_data are: ['Arrival Delay in Minutes']\n"
     ]
    }
   ],
   "source": [
    "# Checking for null columns.\n",
    "\n",
    "null_train_data = train_data.isnull().sum()\n",
    "null_train_cols = null_train_data[null_train_data > 0].keys().to_list()\n",
    "print('Null columns in train_data are:', null_train_cols)\n",
    "\n",
    "null_valid_data = valid_data.isnull().sum()\n",
    "null_valid_cols = null_valid_data[null_valid_data > 0].keys().to_list()\n",
    "print('Null columns in valid_data are:', null_valid_cols)\n",
    "\n",
    "null_test_data = raw_test.isnull().sum()\n",
    "null_test_cols = null_test_data[null_test_data > 0].keys().to_list()\n",
    "print('Null columns in test_data are:', null_test_cols)"
   ]
  },
  {
   "cell_type": "code",
   "execution_count": 70,
   "metadata": {},
   "outputs": [],
   "source": [
    "# All the datasets have same null column."
   ]
  },
  {
   "cell_type": "markdown",
   "metadata": {},
   "source": [
    "### 3.6 Filling the null values."
   ]
  },
  {
   "cell_type": "code",
   "execution_count": 71,
   "metadata": {},
   "outputs": [],
   "source": [
    "from sklearn.impute import SimpleImputer\n",
    "\n",
    "mode_imp = SimpleImputer(strategy = 'most_frequent')\n",
    "\n",
    "train_data_array = mode_imp.fit_transform(train_data)\n",
    "valid_data_array = mode_imp.transform(valid_data)\n",
    "raw_test_array = mode_imp.transform(raw_test)\n",
    "\n",
    "imp_train_data = pd.DataFrame(train_data_array, \n",
    "                              columns = train_data.columns.to_list())\n",
    "imp_valid_data = pd.DataFrame(valid_data_array, \n",
    "                              columns = valid_data.columns.to_list())\n",
    "imp_test_data = pd.DataFrame(raw_test_array, \n",
    "                             columns = raw_test.columns.to_list())"
   ]
  },
  {
   "cell_type": "code",
   "execution_count": 72,
   "metadata": {},
   "outputs": [
    {
     "name": "stdout",
     "output_type": "stream",
     "text": [
      "Null columns in train data: 0\n",
      "Null columns in valid data: 0\n",
      "Null columns in test data: 0\n"
     ]
    }
   ],
   "source": [
    "# Cross checking for null values.\n",
    "\n",
    "print('Null columns in train data:', imp_train_data.isnull().sum().sum())\n",
    "print('Null columns in valid data:', imp_valid_data.isnull().sum().sum())\n",
    "print('Null columns in test data:', imp_test_data.isnull().sum().sum())"
   ]
  },
  {
   "cell_type": "code",
   "execution_count": 73,
   "metadata": {},
   "outputs": [
    {
     "data": {
      "text/plain": [
       "Gender                               object\n",
       "Customer Type                        object\n",
       "Age                                  object\n",
       "Type of Travel                       object\n",
       "Class                                object\n",
       "Flight Distance                      object\n",
       "Inflight wifi service                object\n",
       "Departure/Arrival time convenient    object\n",
       "Ease of Online booking               object\n",
       "Gate location                        object\n",
       "Food and drink                       object\n",
       "Online boarding                      object\n",
       "Seat comfort                         object\n",
       "Inflight entertainment               object\n",
       "On-board service                     object\n",
       "Leg room service                     object\n",
       "Baggage handling                     object\n",
       "Checkin service                      object\n",
       "Inflight service                     object\n",
       "Cleanliness                          object\n",
       "Departure Delay in Minutes           object\n",
       "Arrival Delay in Minutes             object\n",
       "satisfaction                         object\n",
       "dtype: object"
      ]
     },
     "execution_count": 73,
     "metadata": {},
     "output_type": "execute_result"
    }
   ],
   "source": [
    "# Checking for dtypes.\n",
    "\n",
    "imp_train_data.dtypes"
   ]
  },
  {
   "cell_type": "code",
   "execution_count": 74,
   "metadata": {},
   "outputs": [
    {
     "data": {
      "text/plain": [
       "Gender                                object\n",
       "Customer Type                         object\n",
       "Age                                    int32\n",
       "Type of Travel                        object\n",
       "Class                                 object\n",
       "Flight Distance                        int32\n",
       "Inflight wifi service                  int32\n",
       "Departure/Arrival time convenient      int32\n",
       "Ease of Online booking                 int32\n",
       "Gate location                          int32\n",
       "Food and drink                         int32\n",
       "Online boarding                        int32\n",
       "Seat comfort                           int32\n",
       "Inflight entertainment                 int32\n",
       "On-board service                       int32\n",
       "Leg room service                       int32\n",
       "Baggage handling                       int32\n",
       "Checkin service                        int32\n",
       "Inflight service                       int32\n",
       "Cleanliness                            int32\n",
       "Departure Delay in Minutes             int32\n",
       "Arrival Delay in Minutes             float64\n",
       "satisfaction                          object\n",
       "dtype: object"
      ]
     },
     "execution_count": 74,
     "metadata": {},
     "output_type": "execute_result"
    }
   ],
   "source": [
    "# Modifying the dtypes\n",
    "\n",
    "for col in imp_train_data.columns.to_list():\n",
    "    imp_train_data[col] = imp_train_data[col].astype(type(imp_train_data[col][0]))\n",
    "    imp_valid_data[col] = imp_valid_data[col].astype(type(imp_valid_data[col][0]))\n",
    "    imp_test_data[col] = imp_test_data[col].astype(type(imp_test_data[col][0]))\n",
    "    \n",
    "# Cross checking\n",
    "imp_train_data.dtypes"
   ]
  },
  {
   "cell_type": "markdown",
   "metadata": {},
   "source": [
    "### 4. Assumptions for Logistic Regression.\n",
    "- Independent features.\n",
    "- Normally distributed data.\n",
    "- No outliers."
   ]
  },
  {
   "cell_type": "markdown",
   "metadata": {},
   "source": [
    "### 4.1 Independent features."
   ]
  },
  {
   "cell_type": "code",
   "execution_count": 75,
   "metadata": {},
   "outputs": [
    {
     "data": {
      "image/png": "[encoded data removed]",
      "text/plain": [
       "<Figure size 1080x720 with 2 Axes>"
      ]
     },
     "metadata": {
      "needs_background": "light"
     },
     "output_type": "display_data"
    }
   ],
   "source": [
    "plt.figure(figsize = (15, 10))\n",
    "corr_matrix = imp_train_data.corr()\n",
    "sb.heatmap(corr_matrix[corr_matrix > 0.5], annot = True)\n",
    "plt.show()"
   ]
  },
  {
   "cell_type": "markdown",
   "metadata": {},
   "source": [
    "### 4.2 Normally distributed data."
   ]
  },
  {
   "cell_type": "code",
   "execution_count": 76,
   "metadata": {},
   "outputs": [
    {
     "name": "stdout",
     "output_type": "stream",
     "text": [
      "Normally distributed columns are: \n",
      " ['Age', 'Flight Distance', 'Inflight wifi service', 'Departure/Arrival time convenient', 'Ease of Online booking', 'Gate location', 'Food and drink', 'Online boarding', 'Seat comfort', 'Inflight entertainment', 'On-board service', 'Leg room service', 'Baggage handling', 'Checkin service', 'Inflight service', 'Cleanliness', 'Departure Delay in Minutes', 'Arrival Delay in Minutes'] \n",
      "\n",
      "Not normally distributed columns are: \n",
      " [] \n",
      "\n"
     ]
    }
   ],
   "source": [
    "NND = []\n",
    "ND = []\n",
    "\n",
    "for col in imp_train_data.select_dtypes(exclude = 'object').columns:\n",
    "    p_val = scistats.normaltest(imp_train_data[col])[0]\n",
    "    \n",
    "    if p_val < 0.05:\n",
    "        NND.append(col)\n",
    "    else:\n",
    "        ND.append(col)\n",
    "        \n",
    "print('Normally distributed columns are: \\n', ND, '\\n')\n",
    "print('Not normally distributed columns are: \\n', NND, '\\n')"
   ]
  },
  {
   "cell_type": "code",
   "execution_count": 77,
   "metadata": {},
   "outputs": [],
   "source": [
    "# All the data is normally distributed but skewness may be present."
   ]
  },
  {
   "cell_type": "code",
   "execution_count": 78,
   "metadata": {},
   "outputs": [],
   "source": [
    "# Splitting the data into numerical and categorical data.\n",
    "\n",
    "num_train_data = imp_train_data.select_dtypes(exclude = 'object')\n",
    "obj_train_data = imp_train_data.select_dtypes(include = 'object')\n",
    "\n",
    "num_valid_data = imp_valid_data.select_dtypes(exclude = 'object')\n",
    "obj_valid_data = imp_valid_data.select_dtypes(include = 'object')\n",
    "\n",
    "num_test_data = imp_test_data.select_dtypes(exclude = 'object')\n",
    "obj_test_data = imp_test_data.select_dtypes(include = 'object')"
   ]
  },
  {
   "cell_type": "code",
   "execution_count": 79,
   "metadata": {},
   "outputs": [
    {
     "name": "stdout",
     "output_type": "stream",
     "text": [
      "['Age', 'Flight Distance', 'Inflight wifi service', 'Departure/Arrival time convenient', 'Ease of Online booking', 'Gate location', 'Food and drink', 'Online boarding', 'Seat comfort', 'Inflight entertainment', 'On-board service', 'Leg room service', 'Baggage handling', 'Checkin service', 'Inflight service', 'Cleanliness', 'Departure Delay in Minutes', 'Arrival Delay in Minutes']\n"
     ]
    }
   ],
   "source": [
    "# Exploring numerical data.\n",
    "\n",
    "print(num_train_data.columns.to_list())"
   ]
  },
  {
   "cell_type": "code",
   "execution_count": 80,
   "metadata": {
    "scrolled": false
   },
   "outputs": [
    {
     "data": {
      "image/png": "[encoded data removed]",
      "text/plain": [
       "<Figure size 432x288 with 1 Axes>"
      ]
     },
     "metadata": {
      "needs_background": "light"
     },
     "output_type": "display_data"
    },
    {
     "data": {
      "image/png": "[encoded data removed]",
      "text/plain": [
       "<Figure size 432x288 with 1 Axes>"
      ]
     },
     "metadata": {
      "needs_background": "light"
     },
     "output_type": "display_data"
    },
    {
     "data": {
      "image/png": "[encoded data removed]",
      "text/plain": [
       "<Figure size 432x288 with 1 Axes>"
      ]
     },
     "metadata": {
      "needs_background": "light"
     },
     "output_type": "display_data"
    },
    {
     "data": {
      "image/png": "[encoded data removed]",
      "text/plain": [
       "<Figure size 432x288 with 1 Axes>"
      ]
     },
     "metadata": {
      "needs_background": "light"
     },
     "output_type": "display_data"
    },
    {
     "data": {
      "image/png": "[encoded data removed]",
      "text/plain": [
       "<Figure size 432x288 with 1 Axes>"
      ]
     },
     "metadata": {
      "needs_background": "light"
     },
     "output_type": "display_data"
    },
    {
     "data": {
      "image/png": "[encoded data removed]",
      "text/plain": [
       "<Figure size 432x288 with 1 Axes>"
      ]
     },
     "metadata": {
      "needs_background": "light"
     },
     "output_type": "display_data"
    },
    {
     "data": {
      "image/png": "[encoded data removed]",
      "text/plain": [
       "<Figure size 432x288 with 1 Axes>"
      ]
     },
     "metadata": {
      "needs_background": "light"
     },
     "output_type": "display_data"
    },
    {
     "data": {
      "image/png": "[encoded data removed]",
      "text/plain": [
       "<Figure size 432x288 with 1 Axes>"
      ]
     },
     "metadata": {
      "needs_background": "light"
     },
     "output_type": "display_data"
    },
    {
     "data": {
      "image/png": "[encoded data removed]",
      "text/plain": [
       "<Figure size 432x288 with 1 Axes>"
      ]
     },
     "metadata": {
      "needs_background": "light"
     },
     "output_type": "display_data"
    },
    {
     "data": {
      "image/png": "[encoded data removed]",
      "text/plain": [
       "<Figure size 432x288 with 1 Axes>"
      ]
     },
     "metadata": {
      "needs_background": "light"
     },
     "output_type": "display_data"
    },
    {
     "data": {
      "image/png": "[encoded data removed]",
      "text/plain": [
       "<Figure size 432x288 with 1 Axes>"
      ]
     },
     "metadata": {
      "needs_background": "light"
     },
     "output_type": "display_data"
    },
    {
     "data": {
      "image/png": "[encoded data removed]",
      "text/plain": [
       "<Figure size 432x288 with 1 Axes>"
      ]
     },
     "metadata": {
      "needs_background": "light"
     },
     "output_type": "display_data"
    },
    {
     "data": {
      "image/png": "[encoded data removed]",
      "text/plain": [
       "<Figure size 432x288 with 1 Axes>"
      ]
     },
     "metadata": {
      "needs_background": "light"
     },
     "output_type": "display_data"
    },
    {
     "data": {
      "image/png": "[encoded data removed]",
      "text/plain": [
       "<Figure size 432x288 with 1 Axes>"
      ]
     },
     "metadata": {
      "needs_background": "light"
     },
     "output_type": "display_data"
    },
    {
     "data": {
      "image/png": "[encoded data removed]",
      "text/plain": [
       "<Figure size 432x288 with 1 Axes>"
      ]
     },
     "metadata": {
      "needs_background": "light"
     },
     "output_type": "display_data"
    },
    {
     "data": {
      "image/png": "[encoded data removed]",
      "text/plain": [
       "<Figure size 432x288 with 1 Axes>"
      ]
     },
     "metadata": {
      "needs_background": "light"
     },
     "output_type": "display_data"
    },
    {
     "data": {
      "image/png": "[encoded data removed]",
      "text/plain": [
       "<Figure size 432x288 with 1 Axes>"
      ]
     },
     "metadata": {
      "needs_background": "light"
     },
     "output_type": "display_data"
    },
    {
     "data": {
      "image/png": "[encoded data removed]",
      "text/plain": [
       "<Figure size 432x288 with 1 Axes>"
      ]
     },
     "metadata": {
      "needs_background": "light"
     },
     "output_type": "display_data"
    }
   ],
   "source": [
    "for col in num_train_data.columns:\n",
    "    data = imp_train_data[[col, 'satisfaction']].groupby('satisfaction').mean()\n",
    "    data.plot(kind = 'bar', rot = 'horizontal')\n",
    "    plt.show()"
   ]
  },
  {
   "cell_type": "code",
   "execution_count": 81,
   "metadata": {},
   "outputs": [
    {
     "data": {
      "image/png": "[encoded data removed]",
      "text/plain": [
       "<Figure size 432x288 with 1 Axes>"
      ]
     },
     "metadata": {
      "needs_background": "light"
     },
     "output_type": "display_data"
    },
    {
     "data": {
      "image/png": "[encoded data removed]",
      "text/plain": [
       "<Figure size 432x288 with 1 Axes>"
      ]
     },
     "metadata": {
      "needs_background": "light"
     },
     "output_type": "display_data"
    },
    {
     "data": {
      "image/png": "[encoded data removed]",
      "text/plain": [
       "<Figure size 432x288 with 1 Axes>"
      ]
     },
     "metadata": {
      "needs_background": "light"
     },
     "output_type": "display_data"
    },
    {
     "data": {
      "image/png": "[encoded data removed]",
      "text/plain": [
       "<Figure size 432x288 with 1 Axes>"
      ]
     },
     "metadata": {
      "needs_background": "light"
     },
     "output_type": "display_data"
    },
    {
     "data": {
      "image/png": "[encoded data removed]",
      "text/plain": [
       "<Figure size 432x288 with 1 Axes>"
      ]
     },
     "metadata": {
      "needs_background": "light"
     },
     "output_type": "display_data"
    }
   ],
   "source": [
    "for col in obj_train_data.columns:\n",
    "    sb.countplot(x = obj_train_data[col])\n",
    "    plt.show()"
   ]
  },
  {
   "cell_type": "code",
   "execution_count": 82,
   "metadata": {},
   "outputs": [],
   "source": [
    "# Mapping\n",
    "# Class represents socio economic status(just like Grade)\n",
    "\n",
    "obj_train_data = obj_train_data.replace({'Gender': {'Female': 1, \n",
    "                                                    'Male': 0},\n",
    "                                         'Customer Type': {'Loyal Customer': 1, \n",
    "                                                           'disloyal Customer': 0},\n",
    "                                         'Type of Travel': {'Business travel': 1,\n",
    "                                                            'Personal Travel': 0},\n",
    "                                         'Class': {'Business': 1, \n",
    "                                                   'Eco': 2,\n",
    "                                                   'Eco Plus': 3},\n",
    "                                         'satisfaction': {'neutral or dissatisfied': 0,\n",
    "                                                          'satisfied': 1}\n",
    "                                        })"
   ]
  },
  {
   "cell_type": "code",
   "execution_count": 83,
   "metadata": {},
   "outputs": [],
   "source": [
    "obj_valid_data = obj_valid_data.replace({'Gender': {'Female': 1, \n",
    "                                                    'Male': 0},\n",
    "                                         'Customer Type': {'Loyal Customer': 1, \n",
    "                                                           'disloyal Customer': 0},\n",
    "                                         'Type of Travel': {'Business travel': 1,\n",
    "                                                            'Personal Travel': 0},\n",
    "                                         'Class': {'Business': 1, \n",
    "                                                   'Eco': 2,\n",
    "                                                   'Eco Plus': 3},\n",
    "                                         'satisfaction': {'neutral or dissatisfied': 0,\n",
    "                                                          'satisfied': 1}\n",
    "                                        })"
   ]
  },
  {
   "cell_type": "code",
   "execution_count": 84,
   "metadata": {},
   "outputs": [],
   "source": [
    "obj_test_data = obj_test_data.replace({'Gender': {'Female': 1, \n",
    "                                                    'Male': 0},\n",
    "                                         'Customer Type': {'Loyal Customer': 1, \n",
    "                                                           'disloyal Customer': 0},\n",
    "                                         'Type of Travel': {'Business travel': 1,\n",
    "                                                            'Personal Travel': 0},\n",
    "                                         'Class': {'Business': 1, \n",
    "                                                   'Eco': 2,\n",
    "                                                   'Eco Plus': 3},\n",
    "                                         'satisfaction': {'neutral or dissatisfied': 0,\n",
    "                                                          'satisfied': 1}\n",
    "                                        })"
   ]
  },
  {
   "cell_type": "code",
   "execution_count": 85,
   "metadata": {},
   "outputs": [],
   "source": [
    "# Inserting 'Class' in num_train_data for standard scaling.\n",
    "\n",
    "num_train_data.insert(loc = 0, column = 'Class',\n",
    "                      value = obj_train_data['Class'].values)\n",
    "obj_train_data.drop(columns = 'Class', inplace = True)\n",
    "\n",
    "num_valid_data.insert(loc = 0, column = 'Class',\n",
    "                      value = obj_valid_data['Class'].values)\n",
    "obj_valid_data.drop(columns = 'Class', inplace = True)\n",
    "\n",
    "num_test_data.insert(loc = 0, column = 'Class',\n",
    "                     value = obj_test_data['Class'].values)\n",
    "obj_test_data.drop(columns = 'Class', inplace = True)"
   ]
  },
  {
   "cell_type": "code",
   "execution_count": 86,
   "metadata": {},
   "outputs": [],
   "source": [
    "# Checking for skewed data.\n",
    "\n",
    "skewness = num_train_data.apply(lambda x: scistats.skew(x))\n",
    "skewed_cols = skewness[abs(skewness) > 0.75].keys().to_list()"
   ]
  },
  {
   "cell_type": "code",
   "execution_count": 87,
   "metadata": {},
   "outputs": [
    {
     "data": {
      "image/png": "[encoded data removed]",
      "text/plain": [
       "<Figure size 432x288 with 4 Axes>"
      ]
     },
     "metadata": {
      "needs_background": "light"
     },
     "output_type": "display_data"
    }
   ],
   "source": [
    "# Distributions.\n",
    "\n",
    "num_train_data[skewed_cols].hist()\n",
    "plt.tight_layout()\n",
    "plt.show()"
   ]
  },
  {
   "cell_type": "code",
   "execution_count": 88,
   "metadata": {},
   "outputs": [],
   "source": [
    "# Applying log transformations.\n",
    "\n",
    "train_log_data = np.log1p(num_train_data[skewed_cols])\n",
    "valid_log_data = np.log1p(num_valid_data[skewed_cols])\n",
    "test_log_data = np.log1p(num_test_data[skewed_cols])"
   ]
  },
  {
   "cell_type": "code",
   "execution_count": 89,
   "metadata": {},
   "outputs": [
    {
     "data": {
      "image/png": "[encoded data removed]",
      "text/plain": [
       "<Figure size 432x288 with 4 Axes>"
      ]
     },
     "metadata": {
      "needs_background": "light"
     },
     "output_type": "display_data"
    }
   ],
   "source": [
    "# Distributions.\n",
    "\n",
    "train_log_data.hist()\n",
    "plt.tight_layout()\n",
    "plt.show()"
   ]
  },
  {
   "cell_type": "code",
   "execution_count": 90,
   "metadata": {},
   "outputs": [],
   "source": [
    "# Dropping skewed columns from num_train_data.\n",
    "\n",
    "for col in skewed_cols:\n",
    "    num_train_data = num_train_data.drop(columns = col)\n",
    "    num_valid_data = num_valid_data.drop(columns = col)\n",
    "    num_test_data = num_test_data.drop(columns = col)"
   ]
  },
  {
   "cell_type": "code",
   "execution_count": 51,
   "metadata": {
    "scrolled": false
   },
   "outputs": [
    {
     "data": {
      "image/png": "[encoded data removed]",
      "text/plain": [
       "<Figure size 432x288 with 1 Axes>"
      ]
     },
     "metadata": {
      "needs_background": "light"
     },
     "output_type": "display_data"
    },
    {
     "data": {
      "image/png": "[encoded data removed]",
      "text/plain": [
       "<Figure size 432x288 with 1 Axes>"
      ]
     },
     "metadata": {
      "needs_background": "light"
     },
     "output_type": "display_data"
    },
    {
     "data": {
      "image/png": "[encoded data removed]",
      "text/plain": [
       "<Figure size 432x288 with 1 Axes>"
      ]
     },
     "metadata": {
      "needs_background": "light"
     },
     "output_type": "display_data"
    },
    {
     "data": {
      "image/png": "[encoded data removed]",
      "text/plain": [
       "<Figure size 432x288 with 1 Axes>"
      ]
     },
     "metadata": {
      "needs_background": "light"
     },
     "output_type": "display_data"
    },
    {
     "data": {
      "image/png": "[encoded data removed]",
      "text/plain": [
       "<Figure size 432x288 with 1 Axes>"
      ]
     },
     "metadata": {
      "needs_background": "light"
     },
     "output_type": "display_data"
    },
    {
     "data": {
      "image/png": "[encoded data removed]",
      "text/plain": [
       "<Figure size 432x288 with 1 Axes>"
      ]
     },
     "metadata": {
      "needs_background": "light"
     },
     "output_type": "display_data"
    },
    {
     "data": {
      "image/png": "[encoded data removed]",
      "text/plain": [
       "<Figure size 432x288 with 1 Axes>"
      ]
     },
     "metadata": {
      "needs_background": "light"
     },
     "output_type": "display_data"
    },
    {
     "data": {
      "image/png": "[encoded data removed]",
      "text/plain": [
       "<Figure size 432x288 with 1 Axes>"
      ]
     },
     "metadata": {
      "needs_background": "light"
     },
     "output_type": "display_data"
    },
    {
     "data": {
      "image/png": "[encoded data removed]",
      "text/plain": [
       "<Figure size 432x288 with 1 Axes>"
      ]
     },
     "metadata": {
      "needs_background": "light"
     },
     "output_type": "display_data"
    },
    {
     "data": {
      "image/png": "[encoded data removed]",
      "text/plain": [
       "<Figure size 432x288 with 1 Axes>"
      ]
     },
     "metadata": {
      "needs_background": "light"
     },
     "output_type": "display_data"
    },
    {
     "data": {
      "image/png": "[encoded data removed]",
      "text/plain": [
       "<Figure size 432x288 with 1 Axes>"
      ]
     },
     "metadata": {
      "needs_background": "light"
     },
     "output_type": "display_data"
    },
    {
     "data": {
      "image/png": "[encoded data removed]",
      "text/plain": [
       "<Figure size 432x288 with 1 Axes>"
      ]
     },
     "metadata": {
      "needs_background": "light"
     },
     "output_type": "display_data"
    },
    {
     "data": {
      "image/png": "[encoded data removed]",
      "text/plain": [
       "<Figure size 432x288 with 1 Axes>"
      ]
     },
     "metadata": {
      "needs_background": "light"
     },
     "output_type": "display_data"
    },
    {
     "data": {
      "image/png": "[encoded data removed]",
      "text/plain": [
       "<Figure size 432x288 with 1 Axes>"
      ]
     },
     "metadata": {
      "needs_background": "light"
     },
     "output_type": "display_data"
    },
    {
     "data": {
      "image/png": "[encoded data removed]",
      "text/plain": [
       "<Figure size 432x288 with 1 Axes>"
      ]
     },
     "metadata": {
      "needs_background": "light"
     },
     "output_type": "display_data"
    },
    {
     "data": {
      "image/png": "[encoded data removed]",
      "text/plain": [
       "<Figure size 432x288 with 1 Axes>"
      ]
     },
     "metadata": {
      "needs_background": "light"
     },
     "output_type": "display_data"
    }
   ],
   "source": [
    "# Check for scale.\n",
    "\n",
    "for col in num_train_data.columns:\n",
    "    sb.boxplot(x = num_train_data[col])\n",
    "    plt.show()"
   ]
  },
  {
   "cell_type": "code",
   "execution_count": 91,
   "metadata": {},
   "outputs": [],
   "source": [
    "# Scaling the data.\n",
    "\n",
    "from sklearn.preprocessing import StandardScaler\n",
    "\n",
    "std_scale = StandardScaler()\n",
    "\n",
    "temp_train_array = std_scale.fit_transform(num_train_data)\n",
    "temp_valid_array = std_scale.transform(num_valid_data)\n",
    "temp_test_array = std_scale.transform(num_test_data)\n",
    "\n",
    "scaled_train_data = pd.DataFrame(temp_train_array, \n",
    "                                 columns = num_train_data.columns.to_list())\n",
    "scaled_valid_data = pd.DataFrame(temp_valid_array, \n",
    "                                 columns = num_valid_data.columns.to_list())\n",
    "scaled_test_data = pd.DataFrame(temp_test_array, \n",
    "                                 columns = num_test_data.columns.to_list())"
   ]
  },
  {
   "cell_type": "code",
   "execution_count": 92,
   "metadata": {},
   "outputs": [],
   "source": [
    "# Concatenating the data.\n",
    "\n",
    "mod_train_data = pd.concat([scaled_train_data, train_log_data, obj_train_data],\n",
    "                           axis = 1)\n",
    "mod_valid_data = pd.concat([scaled_valid_data, valid_log_data, obj_valid_data],\n",
    "                           axis = 1)\n",
    "mod_test_data = pd.concat([scaled_test_data, test_log_data, obj_test_data],\n",
    "                           axis = 1)"
   ]
  },
  {
   "cell_type": "code",
   "execution_count": 93,
   "metadata": {},
   "outputs": [],
   "source": [
    "y_train = mod_train_data['satisfaction']\n",
    "mod_train_data = mod_train_data.drop(columns = 'satisfaction')\n",
    "\n",
    "y_valid = mod_valid_data['satisfaction']\n",
    "mod_valid_data = mod_valid_data.drop(columns = 'satisfaction')\n",
    "\n",
    "y_test = mod_test_data['satisfaction']\n",
    "mod_test_data = mod_test_data.drop(columns = 'satisfaction')"
   ]
  },
  {
   "cell_type": "code",
   "execution_count": 94,
   "metadata": {},
   "outputs": [
    {
     "name": "stdout",
     "output_type": "stream",
     "text": [
      "Shape of Training data: (72732, 22)\n",
      "Shape of Valid data: (31172, 22)\n",
      "Shape of Testing data: (25976, 22)\n"
     ]
    }
   ],
   "source": [
    "print('Shape of Training data:', mod_train_data.shape)\n",
    "print('Shape of Valid data:', mod_valid_data.shape)\n",
    "print('Shape of Testing data:', mod_test_data.shape)"
   ]
  },
  {
   "cell_type": "code",
   "execution_count": 95,
   "metadata": {},
   "outputs": [],
   "source": [
    "# Model development."
   ]
  },
  {
   "cell_type": "code",
   "execution_count": 96,
   "metadata": {},
   "outputs": [],
   "source": [
    "from sklearn.linear_model import LogisticRegression\n",
    "from sklearn.tree import DecisionTreeClassifier\n",
    "from sklearn.ensemble import AdaBoostClassifier\n",
    "from sklearn.model_selection import cross_val_score"
   ]
  },
  {
   "cell_type": "code",
   "execution_count": 97,
   "metadata": {},
   "outputs": [],
   "source": [
    "# Model selection."
   ]
  },
  {
   "cell_type": "code",
   "execution_count": 98,
   "metadata": {},
   "outputs": [
    {
     "name": "stdout",
     "output_type": "stream",
     "text": [
      "Score of Logistic Regression model: 0.8756\n"
     ]
    }
   ],
   "source": [
    "lrclf = LogisticRegression()\n",
    "lr_scores = cross_val_score(lrclf, X = mod_train_data, y = y_train, \n",
    "                            cv = 5, scoring = 'accuracy')\n",
    "\n",
    "print('Score of Logistic Regression model:', np.round(lr_scores.mean(), 4))"
   ]
  },
  {
   "cell_type": "code",
   "execution_count": 99,
   "metadata": {},
   "outputs": [
    {
     "name": "stdout",
     "output_type": "stream",
     "text": [
      "Score of Decision Tree model: 0.9431\n"
     ]
    }
   ],
   "source": [
    "dtclf = DecisionTreeClassifier()\n",
    "dt_scores = cross_val_score(dtclf, X = mod_train_data, y = y_train, \n",
    "                            cv = 5, scoring = 'accuracy')\n",
    "\n",
    "print('Score of Decision Tree model:', np.round(dt_scores.mean(), 4))"
   ]
  },
  {
   "cell_type": "code",
   "execution_count": 100,
   "metadata": {},
   "outputs": [
    {
     "name": "stdout",
     "output_type": "stream",
     "text": [
      "Score of AdaBoost model: 0.9282\n"
     ]
    }
   ],
   "source": [
    "adaclf = AdaBoostClassifier()\n",
    "ada_scores = cross_val_score(adaclf, X = mod_train_data, y = y_train, \n",
    "                             cv = 5, scoring = 'accuracy')\n",
    "\n",
    "print('Score of AdaBoost model:', np.round(ada_scores.mean(), 4))"
   ]
  },
  {
   "cell_type": "code",
   "execution_count": 101,
   "metadata": {},
   "outputs": [
    {
     "name": "stdout",
     "output_type": "stream",
     "text": [
      "Precision on training data: 1.0\n",
      "Recall on training data: 1.0 \n",
      "\n",
      "Precision on Validation data: 0.9355668209536404\n",
      "Recall on Validation data: 0.940125507567368\n"
     ]
    }
   ],
   "source": [
    "# Selecting Decision Tree classifier and performing Hyperparameter Tuning.\n",
    "\n",
    "# Satisfied customer(TP) can be misclassified to dissatisfied customer(FN) but\n",
    "# dissatisfied customers(TN) cannot be miscalssified to satisfied customer(FP)\n",
    "# Therefore, tuning for high precision and low recall.\n",
    "\n",
    "from sklearn.metrics import precision_score, recall_score, confusion_matrix\n",
    "from sklearn.metrics import classification_report\n",
    "\n",
    "# Default parameters.\n",
    "dtclf1 = DecisionTreeClassifier()\n",
    "dtclf1.fit(X = mod_train_data, y = y_train)\n",
    "\n",
    "train_pred = dtclf1.predict(X = mod_train_data)\n",
    "print('Precision on training data:', precision_score(y_true = y_train, \n",
    "                                                     y_pred = train_pred))\n",
    "print('Recall on training data:', recall_score(y_true = y_train, \n",
    "                                               y_pred = train_pred),'\\n')\n",
    "\n",
    "valid_pred = dtclf1.predict(X = mod_valid_data)\n",
    "print('Precision on Validation data:', precision_score(y_true = y_valid, \n",
    "                                                       y_pred = valid_pred))\n",
    "print('Recall on Validation data:', recall_score(y_true = y_valid, \n",
    "                                                 y_pred = valid_pred))"
   ]
  },
  {
   "cell_type": "code",
   "execution_count": 102,
   "metadata": {},
   "outputs": [],
   "source": [
    "# In the above model recall is high. We want precision.\n",
    "\n",
    "# Modified parameters.\n",
    "from sklearn.model_selection import GridSearchCV\n",
    "\n",
    "params = {'max_depth': [5, 10, 15, 20, 25, 30],\n",
    "          'min_samples_split': range(100, 1000, 100)}\n",
    "\n",
    "gridsearch = GridSearchCV(dtclf1, params, cv = 5, scoring = 'precision')\n",
    "gridsearch_results = gridsearch.fit(X = mod_train_data, y = y_train)"
   ]
  },
  {
   "cell_type": "code",
   "execution_count": 103,
   "metadata": {},
   "outputs": [
    {
     "name": "stdout",
     "output_type": "stream",
     "text": [
      "Best score is: 0.9561832117878118\n",
      "Best parameters are: {'max_depth': 15, 'min_samples_split': 200}\n"
     ]
    }
   ],
   "source": [
    "print('Best score is:', gridsearch_results.best_score_)\n",
    "print('Best parameters are:', gridsearch_results.best_params_)"
   ]
  },
  {
   "cell_type": "code",
   "execution_count": 105,
   "metadata": {},
   "outputs": [
    {
     "name": "stdout",
     "output_type": "stream",
     "text": [
      "Best score is: 0.9542728319418654\n",
      "Best parameters are: {'max_features': 20}\n"
     ]
    }
   ],
   "source": [
    "params = {'max_features': [5, 10, 15, 20]}\n",
    "\n",
    "dtclf2 = DecisionTreeClassifier(max_depth = 15, min_samples_split = 200,\n",
    "                                random_state = 0)\n",
    "\n",
    "gridsearch = GridSearchCV(dtclf2, params, cv = 5, scoring = 'precision')\n",
    "gridsearch_results = gridsearch.fit(X = mod_train_data, y = y_train)\n",
    "\n",
    "print('Best score is:', gridsearch_results.best_score_)\n",
    "print('Best parameters are:', gridsearch_results.best_params_)"
   ]
  },
  {
   "cell_type": "code",
   "execution_count": 106,
   "metadata": {},
   "outputs": [
    {
     "name": "stdout",
     "output_type": "stream",
     "text": [
      "Best score is: 0.9561832117878118\n",
      "Best parameters are: {'criterion': 'gini'}\n"
     ]
    }
   ],
   "source": [
    "params = {'criterion': ['gini', 'entropy']}\n",
    "\n",
    "dtclf2 = DecisionTreeClassifier(max_depth = 15, min_samples_split = 200,\n",
    "                                random_state = 0)\n",
    "\n",
    "gridsearch = GridSearchCV(dtclf2, params, cv = 5, scoring = 'precision')\n",
    "gridsearch_results = gridsearch.fit(X = mod_train_data, y = y_train)\n",
    "\n",
    "print('Best score is:', gridsearch_results.best_score_)\n",
    "print('Best parameters are:', gridsearch_results.best_params_)"
   ]
  },
  {
   "cell_type": "markdown",
   "metadata": {},
   "source": [
    "### Optimal values.\n",
    "criterion = 'gini', <br>\n",
    "max_depth = 15,  <br>\n",
    "min_samples_split = 200"
   ]
  },
  {
   "cell_type": "code",
   "execution_count": 107,
   "metadata": {},
   "outputs": [
    {
     "name": "stdout",
     "output_type": "stream",
     "text": [
      "Precision on training data: 0.9595316622691293\n",
      "Recall on training data: 0.9241740787801779 \n",
      "\n",
      "Precision on Validation data: 0.9551760939167556\n",
      "Recall on Validation data: 0.9250645994832042\n"
     ]
    }
   ],
   "source": [
    "# Optimal parameters.\n",
    "\n",
    "dtclf3 = DecisionTreeClassifier(max_depth = 15, min_samples_split = 200,\n",
    "                                random_state = 0)\n",
    "dtclf3.fit(X = mod_train_data, y = y_train)\n",
    "\n",
    "train_pred = dtclf3.predict(X = mod_train_data)\n",
    "print('Precision on training data:', precision_score(y_true = y_train, \n",
    "                                                     y_pred = train_pred))\n",
    "print('Recall on training data:', recall_score(y_true = y_train, \n",
    "                                               y_pred = train_pred),'\\n')\n",
    "\n",
    "valid_pred = dtclf3.predict(X = mod_valid_data)\n",
    "print('Precision on Validation data:', precision_score(y_true = y_valid, \n",
    "                                                       y_pred = valid_pred))\n",
    "print('Recall on Validation data:', recall_score(y_true = y_valid, \n",
    "                                                 y_pred = valid_pred))"
   ]
  },
  {
   "cell_type": "code",
   "execution_count": 108,
   "metadata": {},
   "outputs": [
    {
     "name": "stdout",
     "output_type": "stream",
     "text": [
      "Precision on Validation data: 0.9530669566005255\n",
      "Recall on Validation data: 0.9224765412610717\n"
     ]
    }
   ],
   "source": [
    "# Testing on Test data.\n",
    "\n",
    "test_pred = dtclf3.predict(X = mod_test_data)\n",
    "print('Precision on Validation data:', precision_score(y_true = y_test, \n",
    "                                                       y_pred = test_pred))\n",
    "print('Recall on Validation data:', recall_score(y_true = y_test, \n",
    "                                                 y_pred = test_pred))"
   ]
  },
  {
   "cell_type": "code",
   "execution_count": null,
   "metadata": {},
   "outputs": [],
   "source": []
  }
 ],
 "metadata": {
  "interpreter": {
   "hash": "42299ce57c8b0e361c295574d1f2401d24fc122ac4f40b8c57c7bcf77a3b7951"
  },
  "kernelspec": {
   "display_name": "Python 3",
   "language": "python",
   "name": "python3"
  },
  "language_info": {
   "codemirror_mode": {
    "name": "ipython",
    "version": 3
   },
   "file_extension": ".py",
   "mimetype": "text/x-python",
   "name": "python",
   "nbconvert_exporter": "python",
   "pygments_lexer": "ipython3",
   "version": "3.8.5"
  }
 },
 "nbformat": 4,
 "nbformat_minor": 5
}
